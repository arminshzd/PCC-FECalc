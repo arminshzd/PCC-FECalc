{
 "cells": [
  {
   "cell_type": "code",
   "execution_count": 1,
   "metadata": {},
   "outputs": [],
   "source": [
    "import os\n",
    "import re\n",
    "import json\n",
    "from pathlib import Path\n",
    "\n",
    "import pandas as pd\n",
    "import torch\n",
    "\n",
    "from botorch import fit_gpytorch_mll\n",
    "from gpytorch.likelihoods import FixedNoiseGaussianLikelihood\n",
    "from gpytorch.mlls import ExactMarginalLogLikelihood\n",
    "from botorch.acquisition.logei import qLogNoisyExpectedImprovement\n",
    "from botorch.sampling import SobolQMCNormalSampler\n",
    "from botorch.optim import optimize_acqf_discrete\n",
    "\n",
    "from gskgpr import GaussianStringKernelGP\n",
    "from seq2ascii import Seq2Ascii"
   ]
  },
  {
   "cell_type": "code",
   "execution_count": 2,
   "metadata": {},
   "outputs": [],
   "source": [
    "device = \"cpu\""
   ]
  },
  {
   "cell_type": "code",
   "execution_count": 3,
   "metadata": {},
   "outputs": [],
   "source": [
    "def load_json_res(data_dir):\n",
    "    with open(data_dir) as f:\n",
    "        rep = json.load(f)\n",
    "    \n",
    "    F = rep[\"FE\"]\n",
    "    F_err = rep[\"FE_error\"]\n",
    "    \n",
    "    return {\"PCC\": [rep[\"PCC2\"]], \"F\": [float(F)], \"F_err\": [float(F_err)],\n",
    "            }\n",
    "\n",
    "def load_data(data_dir):\n",
    "    PCC_list = []\n",
    "    data = []\n",
    "    for jsonf in os.listdir(data_dir):\n",
    "        if re.match(\"^[A-Z]{5}.JSON\", jsonf):\n",
    "            PCC_list.append(jsonf.split(\".\")[0])\n",
    "            data.append(pd.DataFrame(load_json_res(data_dir/jsonf)))\n",
    "\n",
    "    data = pd.concat(data)\n",
    "    data.reset_index(inplace=True, drop=True)\n",
    "    return data\n",
    "\n",
    "def initialize_model(train_x, train_y, err_y, translator, L=5):\n",
    "    model = GaussianStringKernelGP(train_x=train_x, train_y=train_y, \n",
    "                likelihood=FixedNoiseGaussianLikelihood(noise=err_y), \n",
    "                translator=translator, L=L)\n",
    "    model.num_outputs = 1\n",
    "    mll = ExactMarginalLogLikelihood(model.likelihood, model)\n",
    "    return model, mll\n",
    "\n",
    "def opt_qlogEI_get_obs(model, choices, train_x, sampler):\n",
    "\n",
    "    acq_func = qLogNoisyExpectedImprovement(model=model, X_baseline=train_x,\n",
    "            sampler=sampler,)\n",
    "\n",
    "    candidates, _ = optimize_acqf_discrete(\n",
    "        acq_function=acq_func,\n",
    "        q=3,\n",
    "        choices=choices,\n",
    "        max_batch_size=100\n",
    "    )\n",
    "    # observe new values\n",
    "    new_x = candidates.detach()\n",
    "    return new_x"
   ]
  },
  {
   "cell_type": "code",
   "execution_count": 4,
   "metadata": {},
   "outputs": [],
   "source": [
    "dataset_raw = load_data(Path(\"/Users/arminsh/Documents/FEN-HTVS/results_dec\"))\n",
    "dataset = dataset_raw.copy()\n",
    "dataset[\"F\"] = -dataset.F\n",
    "dataset[\"F_err\"] = dataset.F_err\n",
    "norm_transform = [dataset.F.mean(), dataset.F.std()]\n",
    "dataset.F_err = dataset.F_err/norm_transform[1]\n",
    "dataset.F = (dataset.F - norm_transform[0])/norm_transform[1]"
   ]
  },
  {
   "cell_type": "code",
   "execution_count": 5,
   "metadata": {},
   "outputs": [
    {
     "data": {
      "text/html": [
       "<div>\n",
       "<style scoped>\n",
       "    .dataframe tbody tr th:only-of-type {\n",
       "        vertical-align: middle;\n",
       "    }\n",
       "\n",
       "    .dataframe tbody tr th {\n",
       "        vertical-align: top;\n",
       "    }\n",
       "\n",
       "    .dataframe thead th {\n",
       "        text-align: right;\n",
       "    }\n",
       "</style>\n",
       "<table border=\"1\" class=\"dataframe\">\n",
       "  <thead>\n",
       "    <tr style=\"text-align: right;\">\n",
       "      <th></th>\n",
       "      <th>F</th>\n",
       "      <th>F_err</th>\n",
       "    </tr>\n",
       "  </thead>\n",
       "  <tbody>\n",
       "    <tr>\n",
       "      <th>count</th>\n",
       "      <td>3.500000e+01</td>\n",
       "      <td>35.000000</td>\n",
       "    </tr>\n",
       "    <tr>\n",
       "      <th>mean</th>\n",
       "      <td>6.399643e-16</td>\n",
       "      <td>0.268254</td>\n",
       "    </tr>\n",
       "    <tr>\n",
       "      <th>std</th>\n",
       "      <td>1.000000e+00</td>\n",
       "      <td>0.170349</td>\n",
       "    </tr>\n",
       "    <tr>\n",
       "      <th>min</th>\n",
       "      <td>-1.654453e+00</td>\n",
       "      <td>0.085149</td>\n",
       "    </tr>\n",
       "    <tr>\n",
       "      <th>25%</th>\n",
       "      <td>-5.386596e-01</td>\n",
       "      <td>0.161007</td>\n",
       "    </tr>\n",
       "    <tr>\n",
       "      <th>50%</th>\n",
       "      <td>-1.667077e-01</td>\n",
       "      <td>0.214549</td>\n",
       "    </tr>\n",
       "    <tr>\n",
       "      <th>75%</th>\n",
       "      <td>5.625199e-01</td>\n",
       "      <td>0.299655</td>\n",
       "    </tr>\n",
       "    <tr>\n",
       "      <th>max</th>\n",
       "      <td>2.649232e+00</td>\n",
       "      <td>0.786974</td>\n",
       "    </tr>\n",
       "  </tbody>\n",
       "</table>\n",
       "</div>"
      ],
      "text/plain": [
       "                  F      F_err\n",
       "count  3.500000e+01  35.000000\n",
       "mean   6.399643e-16   0.268254\n",
       "std    1.000000e+00   0.170349\n",
       "min   -1.654453e+00   0.085149\n",
       "25%   -5.386596e-01   0.161007\n",
       "50%   -1.667077e-01   0.214549\n",
       "75%    5.625199e-01   0.299655\n",
       "max    2.649232e+00   0.786974"
      ]
     },
     "execution_count": 5,
     "metadata": {},
     "output_type": "execute_result"
    }
   ],
   "source": [
    "dataset.describe()"
   ]
  },
  {
   "cell_type": "code",
   "execution_count": 6,
   "metadata": {},
   "outputs": [],
   "source": [
    "translator = Seq2Ascii(\"/Users/arminsh/Documents/FEN-HTVS/MFMOBO/AA.blosum62.pckl\")\n",
    "\n",
    "fspace = []\n",
    "with open(\"/Users/arminsh/Documents/FEN-HTVS/gen_input_space/full_space.txt\") as f:\n",
    "    line = f.readline()\n",
    "    while line:\n",
    "        fspace.append(line.split()[0])\n",
    "        line = f.readline()\n",
    "\n",
    "translator.fit(fspace)\n",
    "full_space = torch.as_tensor(list(translator.int2str.keys())).to(device)"
   ]
  },
  {
   "cell_type": "code",
   "execution_count": 7,
   "metadata": {},
   "outputs": [],
   "source": [
    "encoded_x = translator.encode_to_int(dataset.PCC.to_list()).to(device)\n",
    "train_y = torch.tensor(dataset.F.to_numpy()).float().to(device)\n",
    "err_y = torch.tensor(dataset.F_err.to_numpy()).float().to(device)\n",
    "model, mll = initialize_model(encoded_x, train_y, err_y**2, translator)"
   ]
  },
  {
   "cell_type": "code",
   "execution_count": 8,
   "metadata": {},
   "outputs": [],
   "source": [
    "choices = list(translator.int2str.keys())\n",
    "for i in dataset.PCC: # remove the ones that are already in the training set\n",
    "    choices.remove(translator.str2int[i])\n",
    "choices = torch.Tensor(choices).view(-1, 1).to(device)"
   ]
  },
  {
   "cell_type": "code",
   "execution_count": 9,
   "metadata": {},
   "outputs": [
    {
     "data": {
      "text/plain": [
       "ExactMarginalLogLikelihood(\n",
       "  (likelihood): FixedNoiseGaussianLikelihood(\n",
       "    (noise_covar): FixedGaussianNoise()\n",
       "  )\n",
       "  (model): GaussianStringKernelGP(\n",
       "    (likelihood): FixedNoiseGaussianLikelihood(\n",
       "      (noise_covar): FixedGaussianNoise()\n",
       "    )\n",
       "    (mean_module): ConstantMean()\n",
       "    (covar_module): GenericStringKernel(\n",
       "      (raw_sigma1_constraint): Positive()\n",
       "      (raw_sigma2_constraint): Positive()\n",
       "    )\n",
       "  )\n",
       ")"
      ]
     },
     "execution_count": 9,
     "metadata": {},
     "output_type": "execute_result"
    }
   ],
   "source": [
    "mll.train()\n",
    "model.train()\n",
    "fit_gpytorch_mll(mll)\n",
    "mll.eval()\n",
    "mll.eval()"
   ]
  },
  {
   "cell_type": "code",
   "execution_count": 14,
   "metadata": {},
   "outputs": [],
   "source": [
    "sampler = SobolQMCNormalSampler(sample_shape=torch.Size([1028]))\n",
    "new_x = opt_qlogEI_get_obs(model=model, choices=choices, train_x=encoded_x.reshape(-1, 1), sampler=sampler)"
   ]
  },
  {
   "cell_type": "code",
   "execution_count": 15,
   "metadata": {},
   "outputs": [],
   "source": [
    "new_x_seq = translator.decode(new_x)"
   ]
  },
  {
   "cell_type": "code",
   "execution_count": 16,
   "metadata": {},
   "outputs": [
    {
     "name": "stdout",
     "output_type": "stream",
     "text": [
      "['YRWWW', 'HLWWW', 'YWPWF']\n"
     ]
    }
   ],
   "source": [
    "print(new_x_seq)"
   ]
  },
  {
   "cell_type": "code",
   "execution_count": null,
   "metadata": {},
   "outputs": [],
   "source": []
  }
 ],
 "metadata": {
  "kernelspec": {
   "display_name": "torch2",
   "language": "python",
   "name": "python3"
  },
  "language_info": {
   "codemirror_mode": {
    "name": "ipython",
    "version": 3
   },
   "file_extension": ".py",
   "mimetype": "text/x-python",
   "name": "python",
   "nbconvert_exporter": "python",
   "pygments_lexer": "ipython3",
   "version": "3.9.18"
  }
 },
 "nbformat": 4,
 "nbformat_minor": 2
}
